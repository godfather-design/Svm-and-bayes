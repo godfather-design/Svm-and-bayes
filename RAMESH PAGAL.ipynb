{
  "nbformat": 4,
  "nbformat_minor": 0,
  "metadata": {
    "colab": {
      "provenance": []
    },
    "kernelspec": {
      "name": "python3",
      "display_name": "Python 3"
    },
    "language_info": {
      "name": "python"
    }
  },
  "cells": [
    {
      "cell_type": "markdown",
      "source": [
        "**SVM AND NAIVE Bayes**\n",
        "\n",
        "#Theoretical Questions\n",
        "\n",
        "**Question No. 1 What is a Support Vector Machine (SVM)?**\n",
        "\n",
        "**Answer.** A Support Vector Machine (SVM) is a supervised learning algorithm for classification and regression. It identifies an optimal hyperplane that maximizes the margin—the distance between the nearest data points of different classes. This approach enhances generalization. SVMs can also handle non-linear boundaries efficiently via the kernel trick, mapping data implicitly into higher-dimensional spaces.\n",
        "\n",
        "**Question No.2. What is the difference between Hard Margin and Soft Margin SVM?**\n",
        "\n",
        "**Answer.** A hard margin SVM assumes perfectly separable classes, finding a hyperplane that classifies all points correctly while maximizing margin. In contrast, a soft margin SVM introduces slack variables and a penalty parameter  to allow misclassifications, improving robustness to noise and outliers. Soft margin thus better generalizes when data isn’t strictly separable.\n",
        "\n",
        "**Question No. 3. What is the mathematical intuition behind SVM?**\n",
        "\n",
        "**Answer.** SVM aims to minimize —equivalent to maximizing the margin —while ensuring each point is correctly classified: . By solving this convex optimization with margin constraints, SVM achieves a boundary that balances fit with generalization.\n",
        "\n",
        "**Question No. 4. What is the role of Lagrange Multipliers in SVM?**\n",
        "\n",
        "**Answer.** Lagrange multipliers () convert the constrained primal optimization into an unconstrained dual form. This allows focus on support vectors (points with non-zero ) and enables kernelization by expressing the classifier entirely through inner products—enhancing computational efficiency and flexibility.\n",
        "\n",
        "**Question No. 5. What are Support Vectors in SVM?**\n",
        "\n",
        "**Answer.** Support vectors are the training data points closest to the separating hyperplane. They determine its position and orientation, as only they have non-zero Lagrange multipliers in the dual formulation. All other points don’t directly influence the model.\n",
        "\n",
        "\n",
        "**Question No. 6. What is a Support Vector Classifier (SVC)?**\n",
        "\n",
        "**Answer.** The Support Vector Classifier (SVC) is simply the SVM applied to classification tasks. It seeks the maximal-margin hyperplane dividing categories—possibly using kernels for non-linear classes. Essentially, “SVC” is the classification-specific title for SVMs.\n",
        "\n",
        "**Question No. 7. What is a support Vector Regressor (SVR)?**\n",
        "\n",
        "\n",
        "**Answer.** SVR adapts SVM principles for regression tasks. It fits a function (often linear or via kernel) within an -insensitive band, balancing flatness (via weight norm) with tolerance for prediction errors. SVR thus predicts continuous outcomes while maintaining generalization.\n",
        "\n",
        "**Question No. 8. What is the Kernel Trick in SVM?**\n",
        "\n",
        "**Answer.** The kernel trick allows SVM to map inputs into high-dimensional feature spaces implicitly, using kernel functions—without computing the mapping explicitly. It enables efficient learning of non-linear decision boundaries by expressing the model in terms of dot products in transformed space.\n",
        "\n",
        "**Question No. 9. Compare Linear Kernel, Polynomial Kernel and RBF kernel.\n",
        "\n",
        " **Answer** **Linear:** Basic dot-product, suitable for linearly separable data; efficient.\n",
        "**Polynomial:** Includes feature interactions via degree; captures moderate non-linearity.\n",
        "**RBF (Gaussian):** Maps to infinite dimensional space, handling complex non-linear patterns; highly flexible but sensitive to parameters.\n",
        "\n",
        "**Question No.10. What is the effect of the C Parameter in SVM?**\n",
        "\n",
        "**Answer.** The parameter  controls regularization: large  imposes heavy penalties on misclassifications, favoring narrower margins and potentially overfitting; small  allows some misclassification to widen the margin, improving generalization.\n",
        "\n",
        "**Question No.11. What is the role of Gamma parameter in RBF kernel SVM?**\n",
        "\n",
        "**Answer.** While specifics weren't in the cited sources,  in RBF kernels determines the influence of individual points. A high  yields tightly focused decision regions (complex boundaries), while a low  produces smoother, more generalized boundaries.\n",
        "\n",
        "**Question No.12. What is Naive Bayes classifier, and why is it called Naive?**\n",
        "\n",
        " **Answer.** Naive Bayes is a probabilistic classifier that applies Bayes’ theorem under the “naive” assumption that features are conditionally independent given the class. This simplification enables fast, efficient modeling despite correlated features.\n",
        "\n",
        "**Question No.13. What is Bayes Theorem?**\n",
        "\n",
        "**Answer.** Bayes’ theorem reverses conditional probabilities to compute the probability of a hypothesis  A given evidence B:\n",
        "\n",
        "P(A|B) ={P(B|A) P(A)}/{P(B)}\n",
        "\n",
        "**Question No.14. Explain the difference between Gaussian Naive Bayes, Multinomial Naive Bayes and Bernoulli Naive Bayes.**\n",
        "\n",
        "**Answer.** **Gaussian NB:** Assumes continuous features follow a normal distribution—good for real-valued data.\n",
        "**Multinomial NB:** Models feature counts—for text frequency data.\n",
        "**Bernoulli NB:** Uses binary features (presence/absence)—e.g., for short text.\n",
        "\n",
        "**Question No.15. When should you use Gaussian Naive Bayes over other variants?**\n",
        "\n",
        "**Answer.** Use Gaussian when features are continuous and approximately normally distributed, such as physical measurements or sensor data—cases where count/frequency models (Multinomial/Bernoulli) aren’t appropriate.\n",
        "\n",
        "**Question No.16 . What are the key assumptions made by Naive Bayes?**\n",
        "\n",
        "**Answer.** **Key Assumptions of Naive Bayes**\n",
        "Features are conditionally independent given the class.\n",
        "\n",
        "     \n",
        "The distribution of each feature—given the class—is correctly modeled (e.g., normal, multinomial, Bernoulli).\n",
        "\n",
        "**Question No.17 . What are the advantages and Disadvantages of Naive Bayes?**\n",
        "\n",
        "**Answer.** **Advantages:** Simple, fast to train and predict, scalable to high-dimensional data, requires minimal training data.\n",
        "**Disadvantages:** Strong (often unrealistic) independence assumption; zero-frequency issues (addressed by smoothing); tends to output overconfident probabilities.\n",
        "\n",
        "**Question No.18 . Why is Naive Bayes is goo\n",
        "d choice for text classification?**\n",
        "\n",
        "**Answer.** It handles high-dimensional, sparse text data efficiently, scales well, requires fast training and inference, and often delivers strong performance—despite its naive assumptions.\n",
        "\n",
        "**Question No.19 . Compare SVM and Naive Bayes for classification tasks.**\n",
        "\n",
        "**Answer.** **Comparing SVM and Naive Bayes**\n",
        "\n",
        "**SVM:** Geometric, robust to non-linear patterns with kernels—often more accurate but computationally heavier and hyperparameter-sensitive.\n",
        "**Naive Bayes:** Probabilistic, fast, simple, effective with sparse/limited data, but its independence assumption may limit accuracy.\n",
        "\n",
        "**Question No.20 . How does Laplace Smoothing help in Naive Bayes?**\n",
        "\n",
        "**Answer.** Laplace (additive) smoothing adds a small constant (often 1) to feature counts, avoiding zero probabilities for unseen feature-class pairs. This ensures the model remains robust and avoids eliminating entire classes due to missing features.\n",
        "\n",
        "#Practical Questions\n",
        "\n",
        "**Question No.21 .Write a Python program to train an SVM Classifier on the Iris dataset and evaluate accuracy.**\n",
        "\n",
        "**Answer.**"
      ],
      "metadata": {
        "id": "_cPnIggRJc1w"
      }
    },
    {
      "cell_type": "code",
      "source": [
        "\n",
        "from sklearn import datasets\n",
        "from sklearn.model_selection import train_test_split\n",
        "from sklearn.svm import SVC\n",
        "from sklearn.metrics import accuracy_score\n",
        "\n",
        "# Load the Iris dataset\n",
        "iris = datasets.load_iris()\n",
        "X = iris.data\n",
        "y = iris.target\n",
        "\n",
        "# Split into training and testing sets (80% train, 20% test)\n",
        "X_train, X_test, y_train, y_test = train_test_split(X, y, test_size=0.2, random_state=42)\n",
        "\n",
        "# Create the SVM classifier (default kernel='rbf')\n",
        "svm_classifier = SVC()\n",
        "\n",
        "# Train the model\n",
        "svm_classifier.fit(X_train, y_train)\n",
        "\n",
        "# Make predictions\n",
        "y_pred = svm_classifier.predict(X_test)\n",
        "\n",
        "# Evaluate accuracy\n",
        "accuracy = accuracy_score(y_test, y_pred)\n",
        "\n",
        "print(f\"Accuracy: {accuracy * 100:.2f}%\")"
      ],
      "metadata": {
        "id": "_g4aKFt-CKPF",
        "colab": {
          "base_uri": "https://localhost:8080/"
        },
        "outputId": "6534d574-0843-4ac5-8a8c-bd687e939854"
      },
      "execution_count": null,
      "outputs": [
        {
          "output_type": "stream",
          "name": "stdout",
          "text": [
            "Accuracy: 100.00%\n"
          ]
        }
      ]
    },
    {
      "cell_type": "markdown",
      "source": [
        "\n",
        "**Question No. 22. Write a Python program to train two SVM classifiers with Linear and RBF kernels on the Wine dataset, then compare their accuracies.**"
      ],
      "metadata": {
        "id": "Ay36HeqXT_iH"
      }
    },
    {
      "cell_type": "code",
      "source": [
        "\n",
        "from sklearn import datasets\n",
        "from sklearn.model_selection import train_test_split\n",
        "from sklearn.svm import SVC\n",
        "from sklearn.metrics import accuracy_score\n",
        "\n",
        "# Load the Wine dataset\n",
        "wine = datasets.load_wine()\n",
        "X = wine.data\n",
        "y = wine.target\n",
        "\n",
        "# Split into training and testing sets (80% train, 20% test)\n",
        "X_train, X_test, y_train, y_test = train_test_split(X, y, test_size=0.2, random_state=42)\n",
        "\n",
        "# Create SVM classifiers with Linear and RBF kernels\n",
        "svm_linear = SVC(kernel='linear')\n",
        "svm_rbf = SVC(kernel='rbf')\n",
        "\n",
        "# Train both classifiers\n",
        "svm_linear.fit(X_train, y_train)\n",
        "svm_rbf.fit(X_train, y_train)\n",
        "\n",
        "# Make predictions\n",
        "y_pred_linear = svm_linear.predict(X_test)\n",
        "y_pred_rbf = svm_rbf.predict(X_test)\n",
        "\n",
        "# Evaluate accuracies\n",
        "accuracy_linear = accuracy_score(y_test, y_pred_linear)\n",
        "accuracy_rbf = accuracy_score(y_test, y_pred_rbf)\n",
        "\n",
        "# Print results\n",
        "print(f\"Linear Kernel Accuracy: {accuracy_linear * 100:.2f}%\")\n",
        "print(f\"RBF Kernel Accuracy: {accuracy_rbf * 100:.2f}%\")\n",
        "\n",
        "# Compare which is better\n",
        "if accuracy_linear > accuracy_rbf:\n",
        "    print(\"Linear kernel performed better.\")\n",
        "elif accuracy_rbf > accuracy_linear:\n",
        "    print(\"RBF kernel performed better.\")\n",
        "else:\n",
        "    print(\"Both kernels performed equally well.\")"
      ],
      "metadata": {
        "colab": {
          "base_uri": "https://localhost:8080/"
        },
        "id": "ZoidKrf2UBLK",
        "outputId": "32a8a58e-62fa-4f3c-95b6-f4a7e24035db"
      },
      "execution_count": null,
      "outputs": [
        {
          "output_type": "stream",
          "name": "stdout",
          "text": [
            "Linear Kernel Accuracy: 100.00%\n",
            "RBF Kernel Accuracy: 80.56%\n",
            "Linear kernel performed better.\n"
          ]
        }
      ]
    },
    {
      "cell_type": "markdown",
      "source": [
        "\n",
        "**Question No. 23. Write a Python program to train an SVM Regressor (SVR) on a housing dataset and evaluate it using Mean Squared Error (MSE).**"
      ],
      "metadata": {
        "id": "_3uAwf1FUG00"
      }
    },
    {
      "cell_type": "code",
      "source": [
        "\n",
        "from sklearn.datasets import fetch_california_housing\n",
        "from sklearn.model_selection import train_test_split\n",
        "from sklearn.svm import SVR\n",
        "from sklearn.metrics import mean_squared_error\n",
        "from sklearn.preprocessing import StandardScaler\n",
        "\n",
        "# Load the California Housing dataset\n",
        "housing = fetch_california_housing()\n",
        "X = housing.data\n",
        "y = housing.target\n",
        "\n",
        "# Feature scaling (important for SVM)\n",
        "scaler_X = StandardScaler()\n",
        "scaler_y = StandardScaler()\n",
        "\n",
        "X_scaled = scaler_X.fit_transform(X)\n",
        "y_scaled = scaler_y.fit_transform(y.reshape(-1, 1)).ravel()\n",
        "\n",
        "# Split into training and testing sets\n",
        "X_train, X_test, y_train, y_test = train_test_split(X_scaled, y_scaled, test_size=0.2, random_state=42)\n",
        "\n",
        "# Create the SVR model with RBF kernel\n",
        "svr = SVR(kernel='rbf')\n",
        "\n",
        "# Train the model\n",
        "svr.fit(X_train, y_train)\n",
        "\n",
        "# Make predictions\n",
        "y_pred_scaled = svr.predict(X_test)\n",
        "\n",
        "# Inverse scale predictions to get actual values\n",
        "y_pred = scaler_y.inverse_transform(y_pred_scaled.reshape(-1, 1))\n",
        "y_test_original = scaler_y.inverse_transform(y_test.reshape(-1, 1))\n",
        "\n",
        "# Evaluate using Mean Squared Error (MSE)\n",
        "mse = mean_squared_error(y_test_original, y_pred)\n",
        "\n",
        "print(f\"Mean Squared Error (MSE): {mse:.4f}\")"
      ],
      "metadata": {
        "colab": {
          "base_uri": "https://localhost:8080/"
        },
        "id": "9WMNH3TLUJlw",
        "outputId": "d67fd4ed-8f0c-40b1-b2d5-9d58f7f613ed"
      },
      "execution_count": null,
      "outputs": [
        {
          "output_type": "stream",
          "name": "stdout",
          "text": [
            "Mean Squared Error (MSE): 0.3521\n"
          ]
        }
      ]
    },
    {
      "cell_type": "markdown",
      "source": [
        "\n",
        "**Question No. 24. Write a Python program to train an SVM Classifier with a Polynomial Kernel and visualize the decision boundary.**"
      ],
      "metadata": {
        "id": "OB4VmNPRUKnA"
      }
    },
    {
      "cell_type": "code",
      "source": [
        "\n",
        "import numpy as np\n",
        "import matplotlib.pyplot as plt\n",
        "from sklearn import datasets\n",
        "from sklearn.svm import SVC\n",
        "from sklearn.model_selection import train_test_split\n",
        "\n",
        "# Load a dataset (for visualization, use only 2 features)\n",
        "X, y = datasets.make_classification(\n",
        "    n_features=2, n_redundant=0, n_informative=2,\n",
        "    n_clusters_per_class=1, n_classes=2, random_state=42\n",
        ")\n",
        "\n",
        "# Split into train/test sets\n",
        "X_train, X_test, y_train, y_test = train_test_split(X, y, test_size=0.2, random_state=42)\n",
        "\n",
        "# Create SVM with Polynomial kernel\n",
        "svm_poly = SVC(kernel='poly', degree=3, C=1.0)\n",
        "svm_poly.fit(X_train, y_train)\n",
        "\n",
        "# Create a mesh grid for decision boundary\n",
        "x_min, x_max = X[:, 0].min() - 1, X[:, 0].max() + 1\n",
        "y_min, y_max = X[:, 1].min() - 1, X[:, 1].max() + 1\n",
        "xx, yy = np.meshgrid(np.linspace(x_min, x_max, 500),\n",
        "                     np.linspace(y_min, y_max, 500))\n",
        "\n",
        "# Predict for each point in the grid\n",
        "Z = svm_poly.predict(np.c_[xx.ravel(), yy.ravel()])\n",
        "Z = Z.reshape(xx.shape)\n",
        "\n",
        "# Plot decision boundary\n",
        "plt.contourf(xx, yy, Z, alpha=0.3, cmap=plt.cm.coolwarm)\n",
        "plt.scatter(X_train[:, 0], X_train[:, 1], c=y_train, cmap=plt.cm.coolwarm, edgecolors='k', label=\"Train\")\n",
        "plt.scatter(X_test[:, 0], X_test[:, 1], c=y_test, cmap=plt.cm.coolwarm, edgecolors='k', marker='*', s=100, label=\"Test\")\n",
        "\n",
        "plt.title(\"SVM with Polynomial Kernel (degree=3)\")\n",
        "plt.xlabel(\"Feature 1\")\n",
        "plt.ylabel(\"Feature 2\")\n",
        "plt.legend()\n",
        "plt.show()"
      ],
      "metadata": {
        "colab": {
          "base_uri": "https://localhost:8080/",
          "height": 472
        },
        "id": "bJDVsAqSUTps",
        "outputId": "013117ae-48ca-49fb-8485-b6c0734687ff"
      },
      "execution_count": null,
      "outputs": [
        {
          "output_type": "display_data",
          "data": {
            "text/plain": [
              "<Figure size 640x480 with 1 Axes>"
            ],
            "image/png": "[encoded data removed]"
          },
          "metadata": {}
        }
      ]
    },
    {
      "cell_type": "markdown",
      "source": [
        "\n",
        "**Question No. 25. Write a Python program to train a Gaussian Naïve Bayes classifier on the Breast Cancer dataset and evaluate accuracy.**"
      ],
      "metadata": {
        "id": "2DU4BiGJUXK7"
      }
    },
    {
      "cell_type": "code",
      "source": [
        "\n",
        "from sklearn.datasets import load_breast_cancer\n",
        "from sklearn.model_selection import train_test_split\n",
        "from sklearn.naive_bayes import GaussianNB\n",
        "from sklearn.metrics import accuracy_score\n",
        "\n",
        "# Load the Breast Cancer dataset\n",
        "data = load_breast_cancer()\n",
        "X = data.data\n",
        "y = data.target\n",
        "\n",
        "# Split into training and testing sets (80% train, 20% test)\n",
        "X_train, X_test, y_train, y_test = train_test_split(X, y, test_size=0.2, random_state=42)\n",
        "\n",
        "# Create Gaussian Naïve Bayes classifier\n",
        "gnb = GaussianNB()\n",
        "\n",
        "# Train the model\n",
        "gnb.fit(X_train, y_train)\n",
        "\n",
        "# Make predictions\n",
        "y_pred = gnb.predict(X_test)\n",
        "\n",
        "# Evaluate accuracy\n",
        "accuracy = accuracy_score(y_test, y_pred)\n",
        "print(f\"Accuracy: {accuracy * 100:.2f}%\")"
      ],
      "metadata": {
        "colab": {
          "base_uri": "https://localhost:8080/"
        },
        "id": "UD4u0mPQUYFB",
        "outputId": "39d6f9b9-4d0b-40f1-a450-e2cc054a5bf8"
      },
      "execution_count": null,
      "outputs": [
        {
          "output_type": "stream",
          "name": "stdout",
          "text": [
            "Accuracy: 97.37%\n"
          ]
        }
      ]
    },
    {
      "cell_type": "markdown",
      "source": [
        "\n",
        "**Question No. 26. Write a Python program to train a Multinomial Naïve Bayes classifier for text classification using the 20 Newsgroups dataset.**"
      ],
      "metadata": {
        "id": "T28zW3gYUagX"
      }
    },
    {
      "cell_type": "code",
      "source": [
        "\n",
        "from sklearn.datasets import fetch_20newsgroups\n",
        "from sklearn.feature_extraction.text import CountVectorizer\n",
        "from sklearn.naive_bayes import MultinomialNB\n",
        "from sklearn.metrics import accuracy_score, classification_report\n",
        "from sklearn.model_selection import train_test_split\n",
        "\n",
        "# Load the dataset (only a few categories for faster execution)\n",
        "categories = ['alt.atheism', 'comp.graphics', 'sci.space', 'talk.religion.misc']\n",
        "newsgroups = fetch_20newsgroups(subset='all', categories=categories, remove=('headers', 'footers', 'quotes'))\n",
        "\n",
        "# Convert text to term-frequency matrix\n",
        "vectorizer = CountVectorizer(stop_words='english')\n",
        "X = vectorizer.fit_transform(newsgroups.data)\n",
        "y = newsgroups.target\n",
        "\n",
        "# Split into train/test sets\n",
        "X_train, X_test, y_train, y_test = train_test_split(X, y, test_size=0.2, random_state=42)\n",
        "\n",
        "# Create Multinomial Naïve Bayes model\n",
        "mnb = MultinomialNB()\n",
        "\n",
        "# Train the model\n",
        "mnb.fit(X_train, y_train)\n",
        "\n",
        "# Make predictions\n",
        "y_pred = mnb.predict(X_test)\n",
        "\n",
        "# Evaluate accuracy\n",
        "accuracy = accuracy_score(y_test, y_pred)\n",
        "print(f\"Accuracy: {accuracy * 100:.2f}%\")\n",
        "\n",
        "# Detailed classification report\n",
        "print(\"\\nClassification Report:\")\n",
        "print(classification_report(y_test, y_pred, target_names=newsgroups.target_names))"
      ],
      "metadata": {
        "colab": {
          "base_uri": "https://localhost:8080/"
        },
        "id": "lqpa7igUUdQf",
        "outputId": "4305face-4885-4f5c-9d84-809568e56807"
      },
      "execution_count": null,
      "outputs": [
        {
          "metadata": {
            "tags": null
          },
          "name": "stdout",
          "output_type": "stream",
          "text": [
            "Accuracy: 80.83%\n",
            "\n",
            "Classification Report:\n",
            "                    precision    recall  f1-score   support\n",
            "\n",
            "       alt.atheism       0.70      0.77      0.74       155\n",
            "     comp.graphics       0.93      0.92      0.92       195\n",
            "         sci.space       0.85      0.85      0.85       201\n",
            "talk.religion.misc       0.70      0.62      0.66       127\n",
            "\n",
            "          accuracy                           0.81       678\n",
            "         macro avg       0.79      0.79      0.79       678\n",
            "      weighted avg       0.81      0.81      0.81       678\n",
            "\n"
          ]
        }
      ]
    },
    {
      "cell_type": "markdown",
      "source": [
        "\n",
        "**Question No. 27. Write a Python program to train an SVM Classifier with different C values and compare the decision boundaries visually.**"
      ],
      "metadata": {
        "id": "CSddtXykUfoN"
      }
    },
    {
      "cell_type": "code",
      "source": [
        "\n",
        "import numpy as np\n",
        "import matplotlib.pyplot as plt\n",
        "from sklearn.datasets import make_classification\n",
        "from sklearn.svm import SVC\n",
        "from sklearn.model_selection import train_test_split\n",
        "\n",
        "# Generate a 2D synthetic dataset for visualization\n",
        "X, y = make_classification(\n",
        "    n_features=2, n_redundant=0, n_informative=2,\n",
        "    n_clusters_per_class=1, n_classes=2, random_state=42\n",
        ")\n",
        "\n",
        "# Split into training and testing sets\n",
        "X_train, X_test, y_train, y_test = train_test_split(X, y, test_size=0.2, random_state=42)\n",
        "\n",
        "# Different C values to test\n",
        "C_values = [0.1, 1, 10, 100]\n",
        "\n",
        "# Create subplots\n",
        "plt.figure(figsize=(12, 8))\n",
        "\n",
        "for i, C in enumerate(C_values, 1):\n",
        "    # Create and train SVM model\n",
        "    svm = SVC(kernel='linear', C=C)\n",
        "    svm.fit(X_train, y_train)\n",
        "\n",
        "    # Create mesh grid for decision boundary\n",
        "    x_min, x_max = X[:, 0].min() - 1, X[:, 0].max() + 1\n",
        "    y_min, y_max = X[:, 1].min() - 1, X[:, 1].max() + 1\n",
        "    xx, yy = np.meshgrid(np.linspace(x_min, x_max, 500),\n",
        "                         np.linspace(y_min, y_max, 500))\n",
        "\n",
        "    Z = svm.predict(np.c_[xx.ravel(), yy.ravel()])\n",
        "    Z = Z.reshape(xx.shape)\n",
        "\n",
        "    # Plot decision boundary\n",
        "    plt.subplot(2, 2, i)\n",
        "    plt.contourf(xx, yy, Z, alpha=0.3, cmap=plt.cm.coolwarm)\n",
        "    plt.scatter(X_train[:, 0], X_train[:, 1], c=y_train, cmap=plt.cm.coolwarm, edgecolors='k', label=\"Train\")\n",
        "    plt.scatter(X_test[:, 0], X_test[:, 1], c=y_test, cmap=plt.cm.coolwarm, edgecolors='k', marker='*', s=100, label=\"Test\")\n",
        "    plt.title(f\"SVM Decision Boundary (C={C})\")\n",
        "    plt.xlabel(\"Feature 1\")\n",
        "    plt.ylabel(\"Feature 2\")\n",
        "    plt.legend()\n",
        "\n",
        "plt.tight_layout()\n",
        "plt.show()"
      ],
      "metadata": {
        "colab": {
          "base_uri": "https://localhost:8080/",
          "height": 609
        },
        "id": "x72W-T9aUiVm",
        "outputId": "3193f079-a777-4155-c93f-a145eb59fc0a"
      },
      "execution_count": null,
      "outputs": [
        {
          "output_type": "display_data",
          "data": {
            "text/plain": [
              "<Figure size 1200x800 with 4 Axes>"
            ],
            "image/png": "[encoded data removed]"
          },
          "metadata": {}
        }
      ]
    },
    {
      "cell_type": "markdown",
      "source": [
        "\n",
        "**Question No. 28. Write a Python program to train a Bernoulli Naïve Bayes classifier for binary classification on a dataset with binary features.**"
      ],
      "metadata": {
        "id": "m4nE28yhUkqa"
      }
    },
    {
      "cell_type": "code",
      "source": [
        "\n",
        "import numpy as np\n",
        "from sklearn.datasets import make_classification\n",
        "from sklearn.naive_bayes import BernoulliNB\n",
        "from sklearn.model_selection import train_test_split\n",
        "from sklearn.metrics import accuracy_score, classification_report\n",
        "\n",
        "# Generate synthetic binary dataset\n",
        "X, y = make_classification(\n",
        "    n_samples=1000, n_features=10, n_informative=8, n_redundant=0,\n",
        "    n_classes=2, random_state=42\n",
        ")\n",
        "\n",
        "# Convert continuous features to binary (threshold at mean)\n",
        "X_binary = (X > np.mean(X, axis=0)).astype(int)\n",
        "\n",
        "# Split into training and testing sets\n",
        "X_train, X_test, y_train, y_test = train_test_split(X_binary, y, test_size=0.2, random_state=42)\n",
        "\n",
        "# Create Bernoulli Naïve Bayes model\n",
        "bnb = BernoulliNB()\n",
        "\n",
        "# Train the model\n",
        "bnb.fit(X_train, y_train)\n",
        "\n",
        "# Make predictions\n",
        "y_pred = bnb.predict(X_test)\n",
        "\n",
        "# Evaluate accuracy\n",
        "accuracy = accuracy_score(y_test, y_pred)\n",
        "print(f\"Accuracy: {accuracy * 100:.2f}%\")\n",
        "\n",
        "# Detailed classification report\n",
        "print(\"\\nClassification Report:\")\n",
        "print(classification_report(y_test, y_pred))"
      ],
      "metadata": {
        "colab": {
          "base_uri": "https://localhost:8080/"
        },
        "id": "DMoT4VqUUsh_",
        "outputId": "1a5f3034-a40b-499b-ec96-0980ab42cc05"
      },
      "execution_count": null,
      "outputs": [
        {
          "output_type": "stream",
          "name": "stdout",
          "text": [
            "Accuracy: 61.00%\n",
            "\n",
            "Classification Report:\n",
            "              precision    recall  f1-score   support\n",
            "\n",
            "           0       0.57      0.68      0.62        94\n",
            "           1       0.66      0.55      0.60       106\n",
            "\n",
            "    accuracy                           0.61       200\n",
            "   macro avg       0.62      0.61      0.61       200\n",
            "weighted avg       0.62      0.61      0.61       200\n",
            "\n"
          ]
        }
      ]
    },
    {
      "cell_type": "markdown",
      "source": [
        "\n",
        "**Question No. 29. Write a Python program to apply feature scaling before training an SVM model and compare results with unscaled data.**"
      ],
      "metadata": {
        "id": "z3gQBffqUvHD"
      }
    },
    {
      "cell_type": "code",
      "source": [
        "\n",
        "from sklearn.datasets import load_wine\n",
        "from sklearn.model_selection import train_test_split\n",
        "from sklearn.svm import SVC\n",
        "from sklearn.preprocessing import StandardScaler\n",
        "from sklearn.metrics import accuracy_score\n",
        "\n",
        "# Load the Wine dataset\n",
        "data = load_wine()\n",
        "X = data.data\n",
        "y = data.target\n",
        "\n",
        "# Split into training and testing sets\n",
        "X_train, X_test, y_train, y_test = train_test_split(X, y, test_size=0.2, random_state=42)\n",
        "\n",
        "# ---- Without Scaling ----\n",
        "svm_unscaled = SVC(kernel='rbf', random_state=42)\n",
        "svm_unscaled.fit(X_train, y_train)\n",
        "y_pred_unscaled = svm_unscaled.predict(X_test)\n",
        "accuracy_unscaled = accuracy_score(y_test, y_pred_unscaled)\n",
        "\n",
        "# ---- With Scaling ----\n",
        "scaler = StandardScaler()\n",
        "X_train_scaled = scaler.fit_transform(X_train)\n",
        "X_test_scaled = scaler.transform(X_test)\n",
        "\n",
        "svm_scaled = SVC(kernel='rbf', random_state=42)\n",
        "svm_scaled.fit(X_train_scaled, y_train)\n",
        "y_pred_scaled = svm_scaled.predict(X_test_scaled)\n",
        "accuracy_scaled = accuracy_score(y_test, y_pred_scaled)\n",
        "\n",
        "# ---- Results ----\n",
        "print(f\"Accuracy without scaling: {accuracy_unscaled * 100:.2f}%\")\n",
        "print(f\"Accuracy with scaling:    {accuracy_scaled * 100:.2f}%\")\n",
        "\n",
        "if accuracy_scaled > accuracy_unscaled:\n",
        "    print(\"✅ Scaling improved the model performance.\")\n",
        "elif accuracy_scaled < accuracy_unscaled:\n",
        "    print(\"⚠️ Scaling reduced the model performance.\")\n",
        "else:\n",
        "    print(\"ℹ️ No change in performance after scaling.\")"
      ],
      "metadata": {
        "colab": {
          "base_uri": "https://localhost:8080/"
        },
        "id": "ru3nB9gpUxfI",
        "outputId": "2f815224-9256-45b7-a6d0-3bfaafbbcb81"
      },
      "execution_count": null,
      "outputs": [
        {
          "output_type": "stream",
          "name": "stdout",
          "text": [
            "Accuracy without scaling: 80.56%\n",
            "Accuracy with scaling:    100.00%\n",
            "✅ Scaling improved the model performance.\n"
          ]
        }
      ]
    },
    {
      "cell_type": "markdown",
      "source": [
        "\n",
        "**Question No. 30. Write a Python program to train a Gaussian Naïve Bayes model and compare the predictions before and after Laplace Smoothing.**"
      ],
      "metadata": {
        "id": "MAjuRwSCUzsH"
      }
    },
    {
      "cell_type": "code",
      "source": [
        "\n",
        "from sklearn.datasets import load_iris\n",
        "from sklearn.model_selection import train_test_split\n",
        "from sklearn.naive_bayes import GaussianNB\n",
        "from sklearn.metrics import accuracy_score\n",
        "import numpy as np\n",
        "\n",
        "# Load dataset\n",
        "iris = load_iris()\n",
        "X = iris.data\n",
        "y = iris.target\n",
        "\n",
        "# Split data\n",
        "X_train, X_test, y_train, y_test = train_test_split(X, y, test_size=0.2, random_state=42)\n",
        "\n",
        "# ---- Without Laplace Smoothing (var_smoothing default) ----\n",
        "gnb_default = GaussianNB(var_smoothing=1e-9)  # Very small smoothing\n",
        "gnb_default.fit(X_train, y_train)\n",
        "y_pred_default = gnb_default.predict(X_test)\n",
        "acc_default = accuracy_score(y_test, y_pred_default)\n",
        "\n",
        "# ---- With Laplace Smoothing (larger var_smoothing) ----\n",
        "gnb_laplace = GaussianNB(var_smoothing=1e-2)  # More smoothing\n",
        "gnb_laplace.fit(X_train, y_train)\n",
        "y_pred_laplace = gnb_laplace.predict(X_test)\n",
        "acc_laplace = accuracy_score(y_test, y_pred_laplace)\n",
        "\n",
        "# ---- Results ----\n",
        "print(\"Predictions without Laplace Smoothing:\", y_pred_default)\n",
        "print(\"Predictions with Laplace Smoothing:   \", y_pred_laplace)\n",
        "print(f\"Accuracy without Laplace Smoothing: {acc_default * 100:.2f}%\")\n",
        "print(f\"Accuracy with Laplace Smoothing:    {acc_laplace * 100:.2f}%\")\n",
        "\n",
        "# Compare difference in predictions\n",
        "diff_indices = np.where(y_pred_default != y_pred_laplace)[0]\n",
        "if len(diff_indices) > 0:\n",
        "    print(\"\\nDifferences found at indices:\", diff_indices)\n",
        "else:\n",
        "    print(\"\\nNo differences in predictions.\")"
      ],
      "metadata": {
        "colab": {
          "base_uri": "https://localhost:8080/"
        },
        "id": "FCmlHM8cU2wG",
        "outputId": "c36177d1-8fe4-4aa6-86ad-dbf5fdf1e2ef"
      },
      "execution_count": null,
      "outputs": [
        {
          "output_type": "stream",
          "name": "stdout",
          "text": [
            "Predictions without Laplace Smoothing: [1 0 2 1 1 0 1 2 1 1 2 0 0 0 0 1 2 1 1 2 0 2 0 2 2 2 2 2 0 0]\n",
            "Predictions with Laplace Smoothing:    [1 0 2 1 1 0 1 2 1 1 2 0 0 0 0 1 2 1 1 2 0 2 0 2 2 2 2 2 0 0]\n",
            "Accuracy without Laplace Smoothing: 100.00%\n",
            "Accuracy with Laplace Smoothing:    100.00%\n",
            "\n",
            "No differences in predictions.\n"
          ]
        }
      ]
    },
    {
      "cell_type": "markdown",
      "source": [
        "\n",
        "**Question No. 31. Write a Python program to train an SVM Classifier and use GridSearchCV to tune the hyperparameters (C, gamma, kernel).**"
      ],
      "metadata": {
        "id": "vIQgZps6U5CR"
      }
    },
    {
      "cell_type": "code",
      "source": [
        "\n",
        "from sklearn.datasets import load_iris\n",
        "from sklearn.model_selection import train_test_split, GridSearchCV\n",
        "from sklearn.svm import SVC\n",
        "from sklearn.metrics import accuracy_score\n",
        "\n",
        "# Load the Iris dataset\n",
        "iris = load_iris()\n",
        "X = iris.data\n",
        "y = iris.target\n",
        "\n",
        "# Split data into training and test sets\n",
        "X_train, X_test, y_train, y_test = train_test_split(\n",
        "    X, y, test_size=0.2, random_state=42\n",
        ")\n",
        "\n",
        "# Define the SVM model\n",
        "svm = SVC()\n",
        "\n",
        "# Define the parameter grid\n",
        "param_grid = {\n",
        "    'C': [0.1, 1, 10, 100],\n",
        "    'gamma': [1, 0.1, 0.01, 0.001],\n",
        "    'kernel': ['linear', 'rbf', 'poly']\n",
        "}\n",
        "\n",
        "# Create GridSearchCV\n",
        "grid_search = GridSearchCV(\n",
        "    estimator=svm,\n",
        "    param_grid=param_grid,\n",
        "    scoring='accuracy',\n",
        "    cv=5,\n",
        "    verbose=1,\n",
        "    n_jobs=-1\n",
        ")\n",
        "\n",
        "# Fit the model\n",
        "grid_search.fit(X_train, y_train)\n",
        "\n",
        "# Best parameters and score\n",
        "print(\"Best Parameters:\", grid_search.best_params_)\n",
        "print(f\"Best Cross-Validation Accuracy: {grid_search.best_score_ * 100:.2f}%\")\n",
        "\n",
        "# Evaluate on test data\n",
        "best_model = grid_search.best_estimator_\n",
        "y_pred = best_model.predict(X_test)\n",
        "test_accuracy = accuracy_score(y_test, y_pred)\n",
        "print(f\"Test Set Accuracy: {test_accuracy * 100:.2f}%\")"
      ],
      "metadata": {
        "id": "UPQDO6epU_fe",
        "outputId": "8e8904a0-3e62-4203-a6b0-70c18aec192a",
        "colab": {
          "base_uri": "https://localhost:8080/"
        }
      },
      "execution_count": null,
      "outputs": [
        {
          "output_type": "stream",
          "name": "stdout",
          "text": [
            "Fitting 5 folds for each of 48 candidates, totalling 240 fits\n",
            "Best Parameters: {'C': 0.1, 'gamma': 0.1, 'kernel': 'poly'}\n",
            "Best Cross-Validation Accuracy: 95.83%\n",
            "Test Set Accuracy: 100.00%\n"
          ]
        }
      ]
    },
    {
      "cell_type": "markdown",
      "source": [
        "\n",
        "**Question No. 32. Write a Python program to train an SVM Classifier on an imbalanced dataset and apply class weighting and check it improve accuracy.**"
      ],
      "metadata": {
        "id": "ewAslAY2VDUe"
      }
    },
    {
      "cell_type": "code",
      "source": [
        "\n",
        "from sklearn.datasets import make_classification\n",
        "from sklearn.model_selection import train_test_split\n",
        "from sklearn.svm import SVC\n",
        "from sklearn.metrics import accuracy_score, classification_report\n",
        "import numpy as np\n",
        "\n",
        "# Generate an imbalanced dataset (90% class 0, 10% class 1)\n",
        "X, y = make_classification(\n",
        "    n_samples=1000, n_features=10, n_informative=8, n_redundant=2,\n",
        "    n_classes=2, weights=[0.9, 0.1], flip_y=0, random_state=42\n",
        ")\n",
        "\n",
        "# Split dataset\n",
        "X_train, X_test, y_train, y_test = train_test_split(\n",
        "    X, y, test_size=0.2, random_state=42\n",
        ")\n",
        "\n",
        "# ---- Without Class Weighting ----\n",
        "svm_unweighted = SVC(kernel='rbf', random_state=42)\n",
        "svm_unweighted.fit(X_train, y_train)\n",
        "y_pred_unweighted = svm_unweighted.predict(X_test)\n",
        "acc_unweighted = accuracy_score(y_test, y_pred_unweighted)\n",
        "\n",
        "# ---- With Class Weighting ----\n",
        "svm_weighted = SVC(kernel='rbf', class_weight='balanced', random_state=42)\n",
        "svm_weighted.fit(X_train, y_train)\n",
        "y_pred_weighted = svm_weighted.predict(X_test)\n",
        "acc_weighted = accuracy_score(y_test, y_pred_weighted)\n",
        "\n",
        "# ---- Results ----\n",
        "print(f\"Accuracy without class weighting: {acc_unweighted * 100:.2f}%\")\n",
        "print(f\"Accuracy with class weighting:    {acc_weighted * 100:.2f}%\\n\")\n",
        "\n",
        "# Classification reports for more insight\n",
        "print(\"Classification Report (Unweighted):\")\n",
        "print(classification_report(y_test, y_pred_unweighted))\n",
        "\n",
        "print(\"Classification Report (Weighted):\")\n",
        "print(classification_report(y_test, y_pred_weighted))"
      ],
      "metadata": {
        "id": "ZZSgP869VMub",
        "outputId": "0a63444a-6a6f-46ef-8af6-0ebbc9fd2ed9",
        "colab": {
          "base_uri": "https://localhost:8080/"
        }
      },
      "execution_count": null,
      "outputs": [
        {
          "output_type": "stream",
          "name": "stdout",
          "text": [
            "Accuracy without class weighting: 93.50%\n",
            "Accuracy with class weighting:    87.50%\n",
            "\n",
            "Classification Report (Unweighted):\n",
            "              precision    recall  f1-score   support\n",
            "\n",
            "           0       0.93      1.00      0.97       181\n",
            "           1       1.00      0.32      0.48        19\n",
            "\n",
            "    accuracy                           0.94       200\n",
            "   macro avg       0.97      0.66      0.72       200\n",
            "weighted avg       0.94      0.94      0.92       200\n",
            "\n",
            "Classification Report (Weighted):\n",
            "              precision    recall  f1-score   support\n",
            "\n",
            "           0       0.96      0.90      0.93       181\n",
            "           1       0.41      0.68      0.51        19\n",
            "\n",
            "    accuracy                           0.88       200\n",
            "   macro avg       0.69      0.79      0.72       200\n",
            "weighted avg       0.91      0.88      0.89       200\n",
            "\n"
          ]
        }
      ]
    },
    {
      "cell_type": "markdown",
      "source": [
        "\n",
        "**Question No. 33. Write a Python program to implement a Naïve Bayes classifier for spam detection using email data.**"
      ],
      "metadata": {
        "id": "E-C7rlb5VOr7"
      }
    },
    {
      "cell_type": "code",
      "source": [
        "\n",
        "from sklearn.model_selection import train_test_split\n",
        "from sklearn.feature_extraction.text import CountVectorizer\n",
        "from sklearn.naive_bayes import MultinomialNB\n",
        "from sklearn.metrics import accuracy_score, classification_report\n",
        "import pandas as pd\n",
        "\n",
        "# Sample email dataset (you can replace with a larger dataset like spam.csv)\n",
        "data = {\n",
        "    \"text\": [\n",
        "        \"Free entry in 2 a wkly comp to win FA Cup final tkts\",\n",
        "        \"Hey, are we still meeting for lunch?\",\n",
        "        \"Congratulations! You've won a $1000 Walmart gift card\",\n",
        "        \"Reminder: your appointment is at 3PM tomorrow\",\n",
        "        \"You have been selected for a chance to get a free iPhone\",\n",
        "        \"Can you send me the report by tonight?\",\n",
        "        \"Earn money from home! Work just 2 hours a day\"\n",
        "    ],\n",
        "    \"label\": [\"spam\", \"ham\", \"spam\", \"ham\", \"spam\", \"ham\", \"spam\"]\n",
        "}\n",
        "\n",
        "# Create DataFrame\n",
        "df = pd.DataFrame(data)\n",
        "\n",
        "# Convert labels to binary (spam=1, ham=0)\n",
        "df[\"label\"] = df[\"label\"].map({\"ham\": 0, \"spam\": 1})\n",
        "\n",
        "# Split dataset\n",
        "X_train, X_test, y_train, y_test = train_test_split(\n",
        "    df[\"text\"], df[\"label\"], test_size=0.3, random_state=42\n",
        ")\n",
        "\n",
        "# Convert text to numerical features\n",
        "vectorizer = CountVectorizer(stop_words='english')\n",
        "X_train_vec = vectorizer.fit_transform(X_train)\n",
        "X_test_vec = vectorizer.transform(X_test)\n",
        "\n",
        "# Train Naïve Bayes classifier\n",
        "nb = MultinomialNB()\n",
        "nb.fit(X_train_vec, y_train)\n",
        "\n",
        "# Make predictions\n",
        "y_pred = nb.predict(X_test_vec)\n",
        "\n",
        "# Evaluate performance\n",
        "accuracy = accuracy_score(y_test, y_pred)\n",
        "print(f\"Accuracy: {accuracy * 100:.2f}%\")\n",
        "print(\"\\nClassification Report:\")\n",
        "print(classification_report(y_test, y_pred, target_names=[\"Ham\", \"Spam\"]))"
      ],
      "metadata": {
        "id": "zDzeUys2VSqY",
        "outputId": "fd10777d-6a29-4187-ed68-5fc7a27dcc13",
        "colab": {
          "base_uri": "https://localhost:8080/"
        }
      },
      "execution_count": null,
      "outputs": [
        {
          "output_type": "stream",
          "name": "stdout",
          "text": [
            "Accuracy: 33.33%\n",
            "\n",
            "Classification Report:\n",
            "              precision    recall  f1-score   support\n",
            "\n",
            "         Ham       0.00      0.00      0.00         2\n",
            "        Spam       0.33      1.00      0.50         1\n",
            "\n",
            "    accuracy                           0.33         3\n",
            "   macro avg       0.17      0.50      0.25         3\n",
            "weighted avg       0.11      0.33      0.17         3\n",
            "\n"
          ]
        },
        {
          "output_type": "stream",
          "name": "stderr",
          "text": [
            "/usr/local/lib/python3.11/dist-packages/sklearn/metrics/_classification.py:1565: UndefinedMetricWarning: Precision is ill-defined and being set to 0.0 in labels with no predicted samples. Use `zero_division` parameter to control this behavior.\n",
            "  _warn_prf(average, modifier, f\"{metric.capitalize()} is\", len(result))\n",
            "/usr/local/lib/python3.11/dist-packages/sklearn/metrics/_classification.py:1565: UndefinedMetricWarning: Precision is ill-defined and being set to 0.0 in labels with no predicted samples. Use `zero_division` parameter to control this behavior.\n",
            "  _warn_prf(average, modifier, f\"{metric.capitalize()} is\", len(result))\n",
            "/usr/local/lib/python3.11/dist-packages/sklearn/metrics/_classification.py:1565: UndefinedMetricWarning: Precision is ill-defined and being set to 0.0 in labels with no predicted samples. Use `zero_division` parameter to control this behavior.\n",
            "  _warn_prf(average, modifier, f\"{metric.capitalize()} is\", len(result))\n"
          ]
        }
      ]
    },
    {
      "cell_type": "markdown",
      "source": [
        "\n",
        "**Question No.  34. Write a Python program to train an SVM Classifier and a Naïve Bayes Classifier on the same dataset and compare their accuracy.**"
      ],
      "metadata": {
        "id": "MgEhLZamVg_A"
      }
    },
    {
      "cell_type": "code",
      "source": [
        "\n",
        "from sklearn.datasets import load_iris\n",
        "from sklearn.model_selection import train_test_split\n",
        "from sklearn.svm import SVC\n",
        "from sklearn.naive_bayes import GaussianNB\n",
        "from sklearn.metrics import accuracy_score\n",
        "\n",
        "# Load dataset\n",
        "iris = load_iris()\n",
        "X = iris.data\n",
        "y = iris.target\n",
        "\n",
        "# Split data into training and testing sets\n",
        "X_train, X_test, y_train, y_test = train_test_split(\n",
        "    X, y, test_size=0.2, random_state=42\n",
        ")\n",
        "\n",
        "# ---- Train SVM Classifier ----\n",
        "svm_model = SVC(kernel='rbf', C=1, gamma='scale', random_state=42)\n",
        "svm_model.fit(X_train, y_train)\n",
        "y_pred_svm = svm_model.predict(X_test)\n",
        "svm_acc = accuracy_score(y_test, y_pred_svm)\n",
        "\n",
        "# ---- Train Naïve Bayes Classifier ----\n",
        "nb_model = GaussianNB()\n",
        "nb_model.fit(X_train, y_train)\n",
        "y_pred_nb = nb_model.predict(X_test)\n",
        "nb_acc = accuracy_score(y_test, y_pred_nb)\n",
        "\n",
        "# ---- Compare Results ----\n",
        "print(f\"SVM Accuracy:          {svm_acc * 100:.2f}%\")\n",
        "print(f\"Naïve Bayes Accuracy:  {nb_acc * 100:.2f}%\")\n",
        "\n",
        "if svm_acc > nb_acc:\n",
        "    print(\"✅ SVM performed better.\")\n",
        "elif nb_acc > svm_acc:\n",
        "    print(\"✅ Naïve Bayes performed better.\")\n",
        "else:\n",
        "    print(\"🤝 Both models performed equally well.\")"
      ],
      "metadata": {
        "id": "gGfIJry-ViG2",
        "outputId": "88a72d71-ce1c-4c96-b997-4a694c1a6489",
        "colab": {
          "base_uri": "https://localhost:8080/"
        }
      },
      "execution_count": null,
      "outputs": [
        {
          "output_type": "stream",
          "name": "stdout",
          "text": [
            "SVM Accuracy:          100.00%\n",
            "Naïve Bayes Accuracy:  100.00%\n",
            "🤝 Both models performed equally well.\n"
          ]
        }
      ]
    },
    {
      "cell_type": "markdown",
      "source": [
        "\n",
        "**Question No. 35. Write a Python program to perform feature selection before training a Naïve Bayes classifier and compare results.**"
      ],
      "metadata": {
        "id": "C04Bb5OPVlZN"
      }
    },
    {
      "cell_type": "code",
      "source": [
        "\n",
        "from sklearn.datasets import load_iris\n",
        "from sklearn.model_selection import train_test_split\n",
        "from sklearn.naive_bayes import GaussianNB\n",
        "from sklearn.feature_selection import SelectKBest, f_classif\n",
        "from sklearn.metrics import accuracy_score\n",
        "\n",
        "# Load dataset\n",
        "iris = load_iris()\n",
        "X = iris.data\n",
        "y = iris.target\n",
        "\n",
        "# Split into training and testing sets\n",
        "X_train, X_test, y_train, y_test = train_test_split(\n",
        "    X, y, test_size=0.3, random_state=42\n",
        ")\n",
        "\n",
        "# ---- Without Feature Selection ----\n",
        "nb_all = GaussianNB()\n",
        "nb_all.fit(X_train, y_train)\n",
        "y_pred_all = nb_all.predict(X_test)\n",
        "acc_all = accuracy_score(y_test, y_pred_all)\n",
        "\n",
        "# ---- With Feature Selection (Select top 2 features) ----\n",
        "selector = SelectKBest(score_func=f_classif, k=2)\n",
        "X_train_selected = selector.fit_transform(X_train, y_train)\n",
        "X_test_selected = selector.transform(X_test)\n",
        "\n",
        "nb_selected = GaussianNB()\n",
        "nb_selected.fit(X_train_selected, y_train)\n",
        "y_pred_selected = nb_selected.predict(X_test_selected)\n",
        "acc_selected = accuracy_score(y_test, y_pred_selected)\n",
        "\n",
        "# ---- Results ----\n",
        "print(f\"Accuracy without feature selection: {acc_all * 100:.2f}%\")\n",
        "print(f\"Accuracy with top 2 features:        {acc_selected * 100:.2f}%\")\n",
        "\n",
        "if acc_selected > acc_all:\n",
        "    print(\"✅ Feature selection improved accuracy.\")\n",
        "elif acc_selected < acc_all:\n",
        "    print(\"⚠️ Feature selection reduced accuracy.\")\n",
        "else:\n",
        "    print(\"🤝 Accuracy remained the same after feature selection.\")"
      ],
      "metadata": {
        "id": "kbh9hLmmVoQZ",
        "outputId": "278c6dde-0a74-4af8-a838-fe22d83fe00f",
        "colab": {
          "base_uri": "https://localhost:8080/"
        }
      },
      "execution_count": null,
      "outputs": [
        {
          "output_type": "stream",
          "name": "stdout",
          "text": [
            "Accuracy without feature selection: 97.78%\n",
            "Accuracy with top 2 features:        100.00%\n",
            "✅ Feature selection improved accuracy.\n"
          ]
        }
      ]
    },
    {
      "cell_type": "markdown",
      "source": [
        "\n",
        "**Question No. 36.Write a Python program to train an SVM Classifier using One-vs-Rest (OVR) and One-vs-One (OVO) strategies on the Wine dataset and compare their accuracy.**"
      ],
      "metadata": {
        "id": "EaJIELFRVqsG"
      }
    },
    {
      "cell_type": "code",
      "source": [
        "\n",
        "from sklearn.datasets import load_wine\n",
        "from sklearn.model_selection import train_test_split\n",
        "from sklearn.svm import SVC\n",
        "from sklearn.metrics import accuracy_score\n",
        "\n",
        "# Load dataset\n",
        "wine = load_wine()\n",
        "X = wine.data\n",
        "y = wine.target\n",
        "\n",
        "# Split into train and test sets\n",
        "X_train, X_test, y_train, y_test = train_test_split(\n",
        "    X, y, test_size=0.3, random_state=42\n",
        ")\n",
        "\n",
        "# ---- One-vs-Rest (OVR) ----\n",
        "svm_ovr = SVC(decision_function_shape='ovr', kernel='rbf', random_state=42)\n",
        "svm_ovr.fit(X_train, y_train)\n",
        "y_pred_ovr = svm_ovr.predict(X_test)\n",
        "acc_ovr = accuracy_score(y_test, y_pred_ovr)\n",
        "\n",
        "# ---- One-vs-One (OVO) ----\n",
        "svm_ovo = SVC(decision_function_shape='ovo', kernel='rbf', random_state=42)\n",
        "svm_ovo.fit(X_train, y_train)\n",
        "y_pred_ovo = svm_ovo.predict(X_test)\n",
        "acc_ovo = accuracy_score(y_test, y_pred_ovo)\n",
        "\n",
        "# ---- Results ----\n",
        "print(f\"Accuracy (One-vs-Rest): {acc_ovr * 100:.2f}%\")\n",
        "print(f\"Accuracy (One-vs-One):  {acc_ovo * 100:.2f}%\")\n",
        "\n",
        "if acc_ovr > acc_ovo:\n",
        "    print(\"✅ One-vs-Rest performed better.\")\n",
        "elif acc_ovo > acc_ovr:\n",
        "    print(\"✅ One-vs-One performed better.\")\n",
        "else:\n",
        "    print(\"🤝 Both performed equally well.\")"
      ],
      "metadata": {
        "id": "RBJbF5R-V2ps",
        "outputId": "7835438c-6287-4a57-a3ae-e7b4f9d33c90",
        "colab": {
          "base_uri": "https://localhost:8080/"
        }
      },
      "execution_count": null,
      "outputs": [
        {
          "output_type": "stream",
          "name": "stdout",
          "text": [
            "Accuracy (One-vs-Rest): 75.93%\n",
            "Accuracy (One-vs-One):  75.93%\n",
            "🤝 Both performed equally well.\n"
          ]
        }
      ]
    },
    {
      "cell_type": "markdown",
      "source": [
        "\n",
        "**Question No. 37. Write a Python program to train an SVM Classifier using Linear, Polynomial, and RBF kernels on the Breast Cancer dataset and compare their accuracy.**"
      ],
      "metadata": {
        "id": "zOg8xFOzV7x1"
      }
    },
    {
      "cell_type": "code",
      "source": [
        "\n",
        "from sklearn.datasets import load_breast_cancer\n",
        "from sklearn.model_selection import train_test_split\n",
        "from sklearn.svm import SVC\n",
        "from sklearn.metrics import accuracy_score\n",
        "\n",
        "# Load dataset\n",
        "cancer = load_breast_cancer()\n",
        "X = cancer.data\n",
        "y = cancer.target\n",
        "\n",
        "# Split into train and test sets\n",
        "X_train, X_test, y_train, y_test = train_test_split(\n",
        "    X, y, test_size=0.3, random_state=42\n",
        ")\n",
        "\n",
        "# Kernel types to compare\n",
        "kernels = ['linear', 'poly', 'rbf']\n",
        "accuracies = {}\n",
        "\n",
        "for kernel in kernels:\n",
        "    svm = SVC(kernel=kernel, random_state=42)\n",
        "    svm.fit(X_train, y_train)\n",
        "    y_pred = svm.predict(X_test)\n",
        "    acc = accuracy_score(y_test, y_pred)\n",
        "    accuracies[kernel] = acc\n",
        "    print(f\"Accuracy with {kernel.capitalize()} kernel: {acc * 100:.2f}%\")\n",
        "\n",
        "# Compare results\n",
        "best_kernel = max(accuracies, key=accuracies.get)\n",
        "print(f\"\\n✅ Best performing kernel: {best_kernel.capitalize()} ({accuracies[best_kernel] * 100:.2f}%)\")"
      ],
      "metadata": {
        "id": "jqDxAdE3WAXj",
        "outputId": "5053d338-8994-43b5-8eeb-3ec69daf8a36",
        "colab": {
          "base_uri": "https://localhost:8080/"
        }
      },
      "execution_count": null,
      "outputs": [
        {
          "output_type": "stream",
          "name": "stdout",
          "text": [
            "Accuracy with Linear kernel: 96.49%\n",
            "Accuracy with Poly kernel: 94.15%\n",
            "Accuracy with Rbf kernel: 93.57%\n",
            "\n",
            "✅ Best performing kernel: Linear (96.49%)\n"
          ]
        }
      ]
    },
    {
      "cell_type": "markdown",
      "source": [
        "\n",
        "**Question No. 38. Write a Python program to train an SVM Classifier using Stratified K-Fold Cross-Validation and compute the average accuracy.**"
      ],
      "metadata": {
        "id": "gfZL6r4kWDVh"
      }
    },
    {
      "cell_type": "code",
      "source": [
        "\n",
        "from sklearn.datasets import load_iris\n",
        "from sklearn.model_selection import StratifiedKFold\n",
        "from sklearn.svm import SVC\n",
        "from sklearn.metrics import accuracy_score\n",
        "import numpy as np\n",
        "\n",
        "# Load dataset\n",
        "iris = load_iris()\n",
        "X = iris.data\n",
        "y = iris.target\n",
        "\n",
        "# Define Stratified K-Fold\n",
        "skf = StratifiedKFold(n_splits=5, shuffle=True, random_state=42)\n",
        "\n",
        "accuracies = []\n",
        "\n",
        "# Perform Stratified K-Fold Cross-Validation\n",
        "for train_index, test_index in skf.split(X, y):\n",
        "    X_train, X_test = X[train_index], X[test_index]\n",
        "    y_train, y_test = y[train_index], y[test_index]\n",
        "\n",
        "    # Train SVM\n",
        "    svm = SVC(kernel='rbf', C=1, gamma='scale', random_state=42)\n",
        "    svm.fit(X_train, y_train)\n",
        "\n",
        "    # Predict and evaluate\n",
        "    y_pred = svm.predict(X_test)\n",
        "    acc = accuracy_score(y_test, y_pred)\n",
        "    accuracies.append(acc)\n",
        "\n",
        "# Compute average accuracy\n",
        "avg_accuracy = np.mean(accuracies)\n",
        "\n",
        "print(f\"Accuracies for each fold: {[round(a*100, 2) for a in accuracies]}\")\n",
        "print(f\"Average Accuracy: {avg_accuracy * 100:.2f}%\")"
      ],
      "metadata": {
        "id": "39xgSeTwWGiM",
        "outputId": "67f00da5-1237-4bd0-9b5c-5561f2b218d5",
        "colab": {
          "base_uri": "https://localhost:8080/"
        }
      },
      "execution_count": null,
      "outputs": [
        {
          "output_type": "stream",
          "name": "stdout",
          "text": [
            "Accuracies for each fold: [100.0, 96.67, 93.33, 100.0, 93.33]\n",
            "Average Accuracy: 96.67%\n"
          ]
        }
      ]
    },
    {
      "cell_type": "markdown",
      "source": [
        "\n",
        "**Question No. 39. Write a Python program to train a Naïve Bayes classifier using different prior probabilities and compare performance.**"
      ],
      "metadata": {
        "id": "LzJ8Ju_YWJOU"
      }
    },
    {
      "cell_type": "code",
      "source": [
        "\n",
        "from sklearn.datasets import load_iris\n",
        "from sklearn.model_selection import train_test_split\n",
        "from sklearn.naive_bayes import GaussianNB\n",
        "from sklearn.metrics import accuracy_score\n",
        "import numpy as np\n",
        "\n",
        "# Load dataset\n",
        "iris = load_iris()\n",
        "X = iris.data\n",
        "y = iris.target\n",
        "\n",
        "# Split into training/testing sets\n",
        "X_train, X_test, y_train, y_test = train_test_split(\n",
        "    X, y, test_size=0.3, random_state=42\n",
        ")\n",
        "\n",
        "# Define different prior probabilities\n",
        "priors_list = [\n",
        "    None,  # Let the model learn from data\n",
        "    [0.33, 0.33, 0.34],  # Equal priors\n",
        "    [0.5, 0.3, 0.2],     # Custom priors (favoring class 0)\n",
        "    [0.2, 0.5, 0.3]      # Custom priors (favoring class 1)\n",
        "]\n",
        "\n",
        "# Train and compare\n",
        "for priors in priors_list:\n",
        "    nb = GaussianNB(priors=priors)\n",
        "    nb.fit(X_train, y_train)\n",
        "    y_pred = nb.predict(X_test)\n",
        "    acc = accuracy_score(y_test, y_pred)\n",
        "    print(f\"Priors={priors} → Accuracy: {acc*100:.2f}%\")"
      ],
      "metadata": {
        "id": "ZaEvTtzTWNBA",
        "outputId": "fff3410e-3e40-4492-fdf4-e2402072c610",
        "colab": {
          "base_uri": "https://localhost:8080/"
        }
      },
      "execution_count": null,
      "outputs": [
        {
          "output_type": "stream",
          "name": "stdout",
          "text": [
            "Priors=None → Accuracy: 97.78%\n",
            "Priors=[0.33, 0.33, 0.34] → Accuracy: 97.78%\n",
            "Priors=[0.5, 0.3, 0.2] → Accuracy: 100.00%\n",
            "Priors=[0.2, 0.5, 0.3] → Accuracy: 100.00%\n"
          ]
        }
      ]
    },
    {
      "cell_type": "markdown",
      "source": [
        "\n",
        "**Question No. 40. Write a Python program to perform Recursive Feature Elimination (RFE) before training an SVM Classifier and compare accuracy.**"
      ],
      "metadata": {
        "id": "rQqW3R6nWPXc"
      }
    },
    {
      "cell_type": "code",
      "source": [
        "\n",
        "from sklearn.datasets import load_wine\n",
        "from sklearn.model_selection import train_test_split\n",
        "from sklearn.svm import SVC\n",
        "from sklearn.feature_selection import RFE\n",
        "from sklearn.metrics import accuracy_score\n",
        "\n",
        "# Load dataset\n",
        "wine = load_wine()\n",
        "X = wine.data\n",
        "y = wine.target\n",
        "\n",
        "# Split into train/test sets\n",
        "X_train, X_test, y_train, y_test = train_test_split(\n",
        "    X, y, test_size=0.3, random_state=42\n",
        ")\n",
        "\n",
        "# -------- Accuracy with All Features --------\n",
        "svm_full = SVC(kernel='linear', random_state=42)\n",
        "svm_full.fit(X_train, y_train)\n",
        "y_pred_full = svm_full.predict(X_test)\n",
        "acc_full = accuracy_score(y_test, y_pred_full)\n",
        "\n",
        "# -------- Recursive Feature Elimination (RFE) --------\n",
        "svm_linear = SVC(kernel='linear', random_state=42)\n",
        "rfe = RFE(estimator=svm_linear, n_features_to_select=5)  # Select top 5 features\n",
        "rfe.fit(X_train, y_train)\n",
        "\n",
        "# Transform datasets\n",
        "X_train_rfe = rfe.transform(X_train)\n",
        "X_test_rfe = rfe.transform(X_test)\n",
        "\n",
        "# Train SVM on selected features\n",
        "svm_rfe = SVC(kernel='linear', random_state=42)\n",
        "svm_rfe.fit(X_train_rfe, y_train)\n",
        "y_pred_rfe = svm_rfe.predict(X_test_rfe)\n",
        "acc_rfe = accuracy_score(y_test, y_pred_rfe)\n",
        "\n",
        "# -------- Results --------\n",
        "print(f\"Accuracy with all features: {acc_full*100:.2f}%\")\n",
        "print(f\"Accuracy after RFE (top 5 features): {acc_rfe*100:.2f}%\")\n",
        "print(\"\\nSelected features (True=selected):\")\n",
        "print(rfe.support_)"
      ],
      "metadata": {
        "id": "8nksfXjMWR2l",
        "outputId": "a3ec7707-6442-49d3-abdf-5507091c4cb5",
        "colab": {
          "base_uri": "https://localhost:8080/"
        }
      },
      "execution_count": null,
      "outputs": [
        {
          "output_type": "stream",
          "name": "stdout",
          "text": [
            "Accuracy with all features: 98.15%\n",
            "Accuracy after RFE (top 5 features): 96.30%\n",
            "\n",
            "Selected features (True=selected):\n",
            "[ True False  True False False False  True False False  True False  True\n",
            " False]\n"
          ]
        }
      ]
    },
    {
      "cell_type": "markdown",
      "source": [
        "\n",
        "**Question No. 41. Write a Python program to train an SVM Classifier and evaluate its performance using Precision, Recall, and Fl-Score instead of accuracy.**"
      ],
      "metadata": {
        "id": "WnnbdNypWUS8"
      }
    },
    {
      "cell_type": "code",
      "source": [
        "\n",
        "from sklearn.datasets import load_iris\n",
        "from sklearn.model_selection import train_test_split\n",
        "from sklearn.svm import SVC\n",
        "from sklearn.metrics import precision_score, recall_score, f1_score\n",
        "\n",
        "# Load dataset\n",
        "iris = load_iris()\n",
        "X = iris.data\n",
        "y = iris.target\n",
        "\n",
        "# Split into train/test sets\n",
        "X_train, X_test, y_train, y_test = train_test_split(\n",
        "    X, y, test_size=0.3, random_state=42\n",
        ")\n",
        "\n",
        "# Train SVM Classifier\n",
        "svm = SVC(kernel='rbf', C=1, gamma='scale', random_state=42)\n",
        "svm.fit(X_train, y_train)\n",
        "\n",
        "# Predictions\n",
        "y_pred = svm.predict(X_test)\n",
        "\n",
        "# Precision, Recall, and F1-Score (macro-averaged for multi-class)\n",
        "precision = precision_score(y_test, y_pred, average='macro')\n",
        "recall = recall_score(y_test, y_pred, average='macro')\n",
        "f1 = f1_score(y_test, y_pred, average='macro')\n",
        "\n",
        "# Results\n",
        "print(f\"Precision (Macro): {precision:.4f}\")\n",
        "print(f\"Recall (Macro):    {recall:.4f}\")\n",
        "print(f\"F1-Score (Macro):  {f1:.4f}\")"
      ],
      "metadata": {
        "id": "HTORXb3mWXML",
        "outputId": "5697f979-5437-424e-c01c-99d440625fe3",
        "colab": {
          "base_uri": "https://localhost:8080/"
        }
      },
      "execution_count": null,
      "outputs": [
        {
          "output_type": "stream",
          "name": "stdout",
          "text": [
            "Precision (Macro): 1.0000\n",
            "Recall (Macro):    1.0000\n",
            "F1-Score (Macro):  1.0000\n"
          ]
        }
      ]
    },
    {
      "cell_type": "markdown",
      "source": [
        "\n",
        "**Question No. 42. Write a Python program to train a Naïve Bayes Classifier and evaluate its performance using Log Loss (Cross-Entropy Loss).**"
      ],
      "metadata": {
        "id": "CrSiR4_3WcU0"
      }
    },
    {
      "cell_type": "code",
      "source": [
        "\n",
        "from sklearn.datasets import load_iris\n",
        "from sklearn.model_selection import train_test_split\n",
        "from sklearn.naive_bayes import GaussianNB\n",
        "from sklearn.metrics import log_loss\n",
        "\n",
        "# Load dataset\n",
        "iris = load_iris()\n",
        "X = iris.data\n",
        "y = iris.target\n",
        "\n",
        "# Split into training/testing sets\n",
        "X_train, X_test, y_train, y_test = train_test_split(\n",
        "    X, y, test_size=0.3, random_state=42\n",
        ")\n",
        "\n",
        "# Train Gaussian Naïve Bayes Classifier\n",
        "nb = GaussianNB()\n",
        "nb.fit(X_train, y_train)\n",
        "\n",
        "# Predict probabilities\n",
        "y_prob = nb.predict_proba(X_test)\n",
        "\n",
        "# Compute Log Loss (Cross-Entropy Loss)\n",
        "loss = log_loss(y_test, y_prob)\n",
        "\n",
        "print(f\"Log Loss (Cross-Entropy): {loss:.4f}\")"
      ],
      "metadata": {
        "id": "3hJniOrzWc7m",
        "outputId": "8c34e660-706f-4b43-9799-98b8cea5d6a7",
        "colab": {
          "base_uri": "https://localhost:8080/"
        }
      },
      "execution_count": null,
      "outputs": [
        {
          "output_type": "stream",
          "name": "stdout",
          "text": [
            "Log Loss (Cross-Entropy): 0.0490\n"
          ]
        }
      ]
    },
    {
      "cell_type": "markdown",
      "source": [
        "\n",
        "**Question No. 43. Write a Python program to train an SVM Classifier and visualize the Confusion Matrix using seaborn.**"
      ],
      "metadata": {
        "id": "xLhZqFKXWfrj"
      }
    },
    {
      "cell_type": "code",
      "source": [
        "\n",
        "import seaborn as sns\n",
        "import matplotlib.pyplot as plt\n",
        "from sklearn.datasets import load_iris\n",
        "from sklearn.model_selection import train_test_split\n",
        "from sklearn.svm import SVC\n",
        "from sklearn.metrics import confusion_matrix\n",
        "\n",
        "# Load dataset\n",
        "iris = load_iris()\n",
        "X = iris.data\n",
        "y = iris.target\n",
        "\n",
        "# Split into train/test sets\n",
        "X_train, X_test, y_train, y_test = train_test_split(\n",
        "    X, y, test_size=0.3, random_state=42\n",
        ")\n",
        "\n",
        "# Train SVM Classifier\n",
        "svm = SVC(kernel='rbf', C=1, gamma='scale', random_state=42)\n",
        "svm.fit(X_train, y_train)\n",
        "\n",
        "# Predictions\n",
        "y_pred = svm.predict(X_test)\n",
        "\n",
        "# Compute Confusion Matrix\n",
        "cm = confusion_matrix(y_test, y_pred)\n",
        "\n",
        "# Plot Confusion Matrix\n",
        "plt.figure(figsize=(6, 5))\n",
        "sns.heatmap(cm, annot=True, fmt=\"d\", cmap=\"Blues\",\n",
        "            xticklabels=iris.target_names,\n",
        "            yticklabels=iris.target_names)\n",
        "plt.xlabel(\"Predicted Label\")\n",
        "plt.ylabel(\"True Label\")\n",
        "plt.title(\"Confusion Matrix - SVM Classifier\")\n",
        "plt.show()"
      ],
      "metadata": {
        "id": "6z1O6LZDWiaL",
        "outputId": "2669aa00-ea2e-4fe6-b52d-fda70f0ddc15",
        "colab": {
          "base_uri": "https://localhost:8080/",
          "height": 487
        }
      },
      "execution_count": null,
      "outputs": [
        {
          "output_type": "display_data",
          "data": {
            "text/plain": [
              "<Figure size 600x500 with 2 Axes>"
            ],
            "image/png": "[encoded data removed]"
          },
          "metadata": {}
        }
      ]
    },
    {
      "cell_type": "markdown",
      "source": [
        "\n",
        "**Question No. 44. Write a Python program to train an SVM Regressor (SVR) and evaluate its performance using Mean Absolute Error (MAE) instead of MSE.**"
      ],
      "metadata": {
        "id": "2dNj-gN5Wk0Z"
      }
    },
    {
      "cell_type": "code",
      "source": [
        "\n",
        "from sklearn.datasets import fetch_california_housing\n",
        "from sklearn.model_selection import train_test_split\n",
        "from sklearn.svm import SVR\n",
        "from sklearn.metrics import mean_absolute_error\n",
        "from sklearn.preprocessing import StandardScaler\n",
        "\n",
        "# Load dataset\n",
        "housing = fetch_california_housing()\n",
        "X = housing.data\n",
        "y = housing.target\n",
        "\n",
        "# Feature scaling (important for SVR)\n",
        "scaler_X = StandardScaler()\n",
        "scaler_y = StandardScaler()\n",
        "\n",
        "X_scaled = scaler_X.fit_transform(X)\n",
        "y_scaled = scaler_y.fit_transform(y.reshape(-1, 1)).ravel()\n",
        "\n",
        "# Split into training/testing sets\n",
        "X_train, X_test, y_train, y_test = train_test_split(\n",
        "    X_scaled, y_scaled, test_size=0.2, random_state=42\n",
        ")\n",
        "\n",
        "# Train SVR Model\n",
        "svr = SVR(kernel='rbf', C=100, gamma=0.1, epsilon=0.1)\n",
        "svr.fit(X_train, y_train)\n",
        "\n",
        "# Predictions\n",
        "y_pred_scaled = svr.predict(X_test)\n",
        "\n",
        "# Inverse transform predictions and true values\n",
        "y_pred = scaler_y.inverse_transform(y_pred_scaled.reshape(-1, 1)).ravel()\n",
        "y_true = scaler_y.inverse_transform(y_test.reshape(-1, 1)).ravel()\n",
        "\n",
        "# Mean Absolute Error\n",
        "mae = mean_absolute_error(y_true, y_pred)\n",
        "\n",
        "print(f\"Mean Absolute Error (MAE): {mae:.4f}\")"
      ],
      "metadata": {
        "id": "TJGv41BPWneD",
        "outputId": "7cffeb1e-e8e0-4cb0-da9b-ec16e075e31c",
        "colab": {
          "base_uri": "https://localhost:8080/"
        }
      },
      "execution_count": null,
      "outputs": [
        {
          "output_type": "stream",
          "name": "stdout",
          "text": [
            "Mean Absolute Error (MAE): 0.3719\n"
          ]
        }
      ]
    },
    {
      "cell_type": "markdown",
      "source": [
        "\n",
        "**Question No. 45. Write a Python program to train a Naïve Bayes classifier and evaluate its performance using the ROC-AUC score.**"
      ],
      "metadata": {
        "id": "hvaIl1qgWpaN"
      }
    },
    {
      "cell_type": "code",
      "source": [
        "\n",
        "from sklearn.datasets import load_breast_cancer\n",
        "from sklearn.model_selection import train_test_split\n",
        "from sklearn.naive_bayes import GaussianNB\n",
        "from sklearn.metrics import roc_auc_score\n",
        "\n",
        "# Load dataset\n",
        "data = load_breast_cancer()\n",
        "X = data.data\n",
        "y = data.target  # Binary classification (0 = malignant, 1 = benign)\n",
        "\n",
        "# Split into train/test sets\n",
        "X_train, X_test, y_train, y_test = train_test_split(\n",
        "    X, y, test_size=0.3, random_state=42\n",
        ")\n",
        "\n",
        "# Train Naïve Bayes model\n",
        "nb = GaussianNB()\n",
        "nb.fit(X_train, y_train)\n",
        "\n",
        "# Predict probabilities for positive class\n",
        "y_prob = nb.predict_proba(X_test)[:, 1]\n",
        "\n",
        "# Compute ROC-AUC score\n",
        "roc_auc = roc_auc_score(y_test, y_prob)\n",
        "\n",
        "print(f\"ROC-AUC Score: {roc_auc:.4f}\")"
      ],
      "metadata": {
        "id": "IJNOBXY6WsZX",
        "outputId": "be91ad32-02d1-42c8-d888-8abf0281c5d9",
        "colab": {
          "base_uri": "https://localhost:8080/"
        }
      },
      "execution_count": null,
      "outputs": [
        {
          "output_type": "stream",
          "name": "stdout",
          "text": [
            "ROC-AUC Score: 0.9922\n"
          ]
        }
      ]
    },
    {
      "cell_type": "markdown",
      "source": [
        "\n",
        "**Question No.46. Write a Python program to train an SVM Classifier and visualize the Precision-Recall Curve.**"
      ],
      "metadata": {
        "id": "bYv4Ri5JWxlr"
      }
    },
    {
      "cell_type": "code",
      "source": [
        "\n",
        "import matplotlib.pyplot as plt\n",
        "from sklearn.datasets import load_breast_cancer\n",
        "from sklearn.model_selection import train_test_split\n",
        "from sklearn.svm import SVC\n",
        "from sklearn.metrics import precision_recall_curve, average_precision_score\n",
        "\n",
        "# Load dataset\n",
        "data = load_breast_cancer()\n",
        "X = data.data\n",
        "y = data.target  # Binary classification\n",
        "\n",
        "# Split into training/testing sets\n",
        "X_train, X_test, y_train, y_test = train_test_split(\n",
        "    X, y, test_size=0.3, random_state=42\n",
        ")\n",
        "\n",
        "# Train SVM Classifier with probability estimates\n",
        "svm = SVC(kernel='rbf', C=1, gamma='scale', probability=True, random_state=42)\n",
        "svm.fit(X_train, y_train)\n",
        "\n",
        "# Predict probabilities for the positive class\n",
        "y_scores = svm.predict_proba(X_test)[:, 1]\n",
        "\n",
        "# Compute precision-recall pairs\n",
        "precision, recall, thresholds = precision_recall_curve(y_test, y_scores)\n",
        "\n",
        "# Compute Average Precision Score\n",
        "avg_precision = average_precision_score(y_test, y_scores)\n",
        "\n",
        "# Plot Precision-Recall Curve\n",
        "plt.figure(figsize=(8, 6))\n",
        "plt.plot(recall, precision, label=f'AP = {avg_precision:.4f}')\n",
        "plt.xlabel('Recall')\n",
        "plt.ylabel('Precision')\n",
        "plt.title('Precision-Recall Curve - SVM Classifier')\n",
        "plt.legend()\n",
        "plt.grid(True)\n",
        "plt.show()"
      ],
      "metadata": {
        "id": "KRRPOsoBW6YI",
        "outputId": "8b369d47-8429-492a-a36b-ca0a9a8ec5c6",
        "colab": {
          "base_uri": "https://localhost:8080/",
          "height": 564
        }
      },
      "execution_count": null,
      "outputs": [
        {
          "output_type": "display_data",
          "data": {
            "text/plain": [
              "<Figure size 800x600 with 1 Axes>"
            ],
            "image/png": "[encoded data removed]"
          },
          "metadata": {}
        }
      ]
    }
  ]
}